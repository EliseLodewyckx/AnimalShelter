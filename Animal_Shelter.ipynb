{
  "nbformat": 4,
  "nbformat_minor": 0,
  "metadata": {
    "colab": {
      "name": "Animal Shelter",
      "version": "0.3.2",
      "provenance": [],
      "collapsed_sections": [],
      "include_colab_link": true
    },
    "kernelspec": {
      "name": "python3",
      "display_name": "Python 3"
    }
  },
  "cells": [
    {
      "cell_type": "markdown",
      "metadata": {
        "id": "view-in-github",
        "colab_type": "text"
      },
      "source": [
        "<a href=\"https://colab.research.google.com/github/EliseLodewyckx/AnimalShelter/blob/master/Animal_Shelter.ipynb\" target=\"_parent\"><img src=\"https://colab.research.google.com/assets/colab-badge.svg\" alt=\"Open In Colab\"/></a>"
      ]
    },
    {
      "cell_type": "markdown",
      "metadata": {
        "id": "qMTZ3HPFOPMc",
        "colab_type": "text"
      },
      "source": [
        "# Animal Shelter\n",
        "This is a project we worked on lin May 2018 during exploration days. We used the Animal Shelter data from [Kaggle](https://www.kaggle.com/c/shelter-animal-outcomes/data). We wanted to see if we could predict whether a dog or cat would die in the animal shelter or if it gets adopted."
      ]
    },
    {
      "cell_type": "markdown",
      "metadata": {
        "id": "3tdNRmC_Ss7B",
        "colab_type": "text"
      },
      "source": [
        "First thing we had to do was clean up the data. To minimize the time we should spent on this, we only started with the easy to use features from the dataset. We started with Animal Type, Gender, whether the animal was neutered or spayed and if it was a mixed breed. Only Animal Type we could use as it was. "
      ]
    },
    {
      "cell_type": "markdown",
      "metadata": {
        "id": "GKfOsLxtz_22",
        "colab_type": "text"
      },
      "source": [
        "For this demo, we use a semi-prepped dataset where we splitted the gender from the neutered or spayed mark and for mix we looked for the samples where the word 'mix' was present in the breed. \n",
        "If the gender was unknown, we assumed that the mark was intact.\n",
        "\n",
        "The outcome type is the variable that we were trying to predict. "
      ]
    },
    {
      "cell_type": "code",
      "metadata": {
        "id": "nAFfSwDPjGFf",
        "colab_type": "code",
        "colab": {}
      },
      "source": [
        "import pandas as pd\n",
        "import io"
      ],
      "execution_count": 0,
      "outputs": []
    },
    {
      "cell_type": "code",
      "metadata": {
        "id": "DOpq_TFcjKQI",
        "colab_type": "code",
        "outputId": "8fc1fdd5-7e96-4f41-a91a-08813fabe944",
        "colab": {
          "base_uri": "https://localhost:8080/",
          "height": 119
        }
      },
      "source": [
        "url = 'https://raw.githubusercontent.com/EliseLodewyckx/AnimalShelter/master/data/train_basic_features.csv'\n",
        "\n",
        "dataset = pd.read_csv(url, sep=';', engine='python', header=0)\n",
        "\n",
        "print(dataset.head())"
      ],
      "execution_count": 3,
      "outputs": [
        {
          "output_type": "stream",
          "text": [
            "       OutcomeType AnimalType SexuponOutcome  Neutered  Mix\n",
            "0  Return_to_owner        Dog           Male         1    1\n",
            "1       Euthanasia        Cat         Female         1    1\n",
            "2         Adoption        Dog           Male         1    1\n",
            "3         Transfer        Cat           Male         0    1\n",
            "4         Transfer        Dog           Male         1    0\n"
          ],
          "name": "stdout"
        }
      ]
    },
    {
      "cell_type": "markdown",
      "metadata": {
        "id": "0yK9BFkRjfky",
        "colab_type": "text"
      },
      "source": [
        "We started out with all outcome types. Before asking ourselves (and the customer) the question if this was usefull information. It was not. The customer was not interested in exactly what would happen to the animal, he just wanted to know if it was likely that an animal would die in the shelter, so that he could maybe spent some more on marketing for that animal when trying to prevent that. So 'Ailve' and 'Dead' would be more interesting categories to predict. So we mapped the categories 'Died' and 'Euthanasia' to 'Dead' and the others to 'Alive'"
      ]
    },
    {
      "cell_type": "code",
      "metadata": {
        "id": "4XM8cSNmj5u8",
        "colab_type": "code",
        "outputId": "8bf69b26-dd56-4502-aa69-ecc23a50d25e",
        "colab": {
          "base_uri": "https://localhost:8080/",
          "height": 119
        }
      },
      "source": [
        "dataset['OutcomeType'] = dataset['OutcomeType'].apply(lambda x : 'Dead' if x == 'Died' or x == 'Euthanasia' or x =='Dead' else 'Alive')\n",
        "\n",
        "print(dataset.head())"
      ],
      "execution_count": 4,
      "outputs": [
        {
          "output_type": "stream",
          "text": [
            "  OutcomeType AnimalType SexuponOutcome  Neutered  Mix\n",
            "0       Alive        Dog           Male         1    1\n",
            "1        Dead        Cat         Female         1    1\n",
            "2       Alive        Dog           Male         1    1\n",
            "3       Alive        Cat           Male         0    1\n",
            "4       Alive        Dog           Male         1    0\n"
          ],
          "name": "stdout"
        }
      ]
    },
    {
      "cell_type": "markdown",
      "metadata": {
        "id": "lHlB9opMNxU5",
        "colab_type": "text"
      },
      "source": [
        "After completing the initial clean-up of the data, we noticed that the decision tree we wanted to use, did not work well with categorical variables. Because we started working in parallel, we noticed it quit late. The best thing to do would be find a model that fits the data better, instead we created hashes for animalType and for sex. If the value was \"Unknown\" to start with, we just 0. We will create hashes of the features after they are split in train and test set."
      ]
    },
    {
      "cell_type": "markdown",
      "metadata": {
        "id": "40qoDlZaoaO5",
        "colab_type": "text"
      },
      "source": [
        "Next we divide our data into a training-, validation- and test-set. For this Kaggle competition there is also a separate test set for which the outcome types are not known. In order to make decisions about the readiness of the model, we would want a test set with outcomes that is never used during development."
      ]
    },
    {
      "cell_type": "code",
      "metadata": {
        "id": "BVqxm8kBn39v",
        "colab_type": "code",
        "colab": {}
      },
      "source": [
        "from sklearn.model_selection import train_test_split"
      ],
      "execution_count": 0,
      "outputs": []
    },
    {
      "cell_type": "code",
      "metadata": {
        "id": "-lrfKzmI5nFG",
        "colab_type": "code",
        "colab": {
          "base_uri": "https://localhost:8080/",
          "height": 272
        },
        "outputId": "9ce0c6dc-64bd-4feb-be46-ac79d9af6841"
      },
      "source": [
        "development_data, test_data = train_test_split(dataset, test_size=0.1)\n",
        "\n",
        "print(\"Development data: \\n\", development_data.head())\n",
        "print(\"\\n Test data: \\n\", test_data.head())"
      ],
      "execution_count": 6,
      "outputs": [
        {
          "output_type": "stream",
          "text": [
            "Development data: \n",
            "       OutcomeType AnimalType SexuponOutcome  Neutered  Mix\n",
            "20211       Alive        Dog        Unknown         0    1\n",
            "13197       Alive        Dog         Female         0    1\n",
            "11877       Alive        Dog         Female         1    1\n",
            "19408       Alive        Cat           Male         0    1\n",
            "17191       Alive        Cat         Female         1    1\n",
            "\n",
            " Test data: \n",
            "       OutcomeType AnimalType SexuponOutcome  Neutered  Mix\n",
            "12380       Alive        Dog         Female         1    1\n",
            "5445        Alive        Dog         Female         1    0\n",
            "21831       Alive        Dog           Male         1    1\n",
            "10081       Alive        Cat        Unknown         0    1\n",
            "12242       Alive        Dog         Female         1    1\n"
          ],
          "name": "stdout"
        }
      ]
    },
    {
      "cell_type": "markdown",
      "metadata": {
        "id": "SUBmbvFr5wSs",
        "colab_type": "text"
      },
      "source": [
        "The development set we are going to split again so we have training data and validation data. "
      ]
    },
    {
      "cell_type": "code",
      "metadata": {
        "id": "lqJWf8cEovFQ",
        "colab_type": "code",
        "colab": {
          "base_uri": "https://localhost:8080/",
          "height": 272
        },
        "outputId": "52c9f32c-6764-40c0-8515-b437f1c10757"
      },
      "source": [
        "train_data, validation_data = train_test_split(development_data, test_size=0.2)\n",
        "\n",
        "print(\"Training data: \\n\", train_data.head())\n",
        "print(\"\\n Validation data: \\n\", validation_data.head())\n"
      ],
      "execution_count": 7,
      "outputs": [
        {
          "output_type": "stream",
          "text": [
            "Training data: \n",
            "       OutcomeType AnimalType SexuponOutcome  Neutered  Mix\n",
            "5351        Alive        Dog           Male         0    1\n",
            "8410        Alive        Dog         Female         1    1\n",
            "18559       Alive        Dog         Female         1    1\n",
            "1122        Alive        Dog         Female         1    1\n",
            "25229       Alive        Cat           Male         0    1\n",
            "\n",
            " Validation data: \n",
            "       OutcomeType AnimalType SexuponOutcome  Neutered  Mix\n",
            "8015        Alive        Cat           Male         1    1\n",
            "9162        Alive        Dog           Male         1    0\n",
            "20137       Alive        Cat         Female         1    1\n",
            "24454       Alive        Cat           Male         1    1\n",
            "21319       Alive        Cat         Female         0    1\n"
          ],
          "name": "stdout"
        }
      ]
    },
    {
      "cell_type": "markdown",
      "metadata": {
        "id": "WvK83vGism-L",
        "colab_type": "text"
      },
      "source": [
        "The very last thing is to extract the features (values by which you want to make a prediction) and the outcomes (the values you want to predict)."
      ]
    },
    {
      "cell_type": "code",
      "metadata": {
        "id": "AMLXNST9s-sJ",
        "colab_type": "code",
        "outputId": "7db60102-4969-43c4-91ec-cfcf81514c4b",
        "colab": {
          "base_uri": "https://localhost:8080/",
          "height": 272
        }
      },
      "source": [
        "feature_columns = list(development_data.columns[1:])\n",
        "\n",
        "outcomes = train_data[\"OutcomeType\"]\n",
        "features = train_data[feature_columns]\n",
        "\n",
        "print('Outcomes: \\n', outcomes.head())\n",
        "print('\\n Features: \\n', features.head())"
      ],
      "execution_count": 8,
      "outputs": [
        {
          "output_type": "stream",
          "text": [
            "Outcomes: \n",
            " 5351     Alive\n",
            "8410     Alive\n",
            "18559    Alive\n",
            "1122     Alive\n",
            "25229    Alive\n",
            "Name: OutcomeType, dtype: object\n",
            "\n",
            " Features: \n",
            "       AnimalType SexuponOutcome  Neutered  Mix\n",
            "5351         Dog           Male         0    1\n",
            "8410         Dog         Female         1    1\n",
            "18559        Dog         Female         1    1\n",
            "1122         Dog         Female         1    1\n",
            "25229        Cat           Male         0    1\n"
          ],
          "name": "stdout"
        }
      ]
    },
    {
      "cell_type": "markdown",
      "metadata": {
        "id": "Qk7bwESA18Xo",
        "colab_type": "text"
      },
      "source": [
        "And then we \"hacked\" a little by converting the features to hashes"
      ]
    },
    {
      "cell_type": "code",
      "metadata": {
        "id": "P5Z1_bIL1jpX",
        "colab_type": "code",
        "outputId": "de4b4aac-53f3-4777-9d44-3fcb3cbaa2c1",
        "colab": {
          "base_uri": "https://localhost:8080/",
          "height": 119
        }
      },
      "source": [
        "hashFunction = lambda x: 0 if x == 'Unknown' else hash(x)\n",
        "\n",
        "hash_features = features.applymap(hashFunction)\n",
        "\n",
        "print(hash_features.head())"
      ],
      "execution_count": 9,
      "outputs": [
        {
          "output_type": "stream",
          "text": [
            "                AnimalType       SexuponOutcome  Neutered  Mix\n",
            "5351   1218296454829451512 -3317441528169794401         0    1\n",
            "8410   1218296454829451512  4015982136323197781         1    1\n",
            "18559  1218296454829451512  4015982136323197781         1    1\n",
            "1122   1218296454829451512  4015982136323197781         1    1\n",
            "25229 -6682994201854783480 -3317441528169794401         0    1\n"
          ],
          "name": "stdout"
        }
      ]
    },
    {
      "cell_type": "markdown",
      "metadata": {
        "id": "2tMc7h2grI_U",
        "colab_type": "text"
      },
      "source": [
        "So now the data is ready to train a model. We started with a decision tree, since it is one of the simplest models. "
      ]
    },
    {
      "cell_type": "code",
      "metadata": {
        "id": "3d7p5NTyrO9m",
        "colab_type": "code",
        "colab": {}
      },
      "source": [
        "from sklearn import tree"
      ],
      "execution_count": 0,
      "outputs": []
    },
    {
      "cell_type": "code",
      "metadata": {
        "id": "pljtHPZYsI1s",
        "colab_type": "code",
        "outputId": "c3fd836a-600e-4b98-bc95-14e18b2421b7",
        "colab": {
          "base_uri": "https://localhost:8080/",
          "height": 119
        }
      },
      "source": [
        "decisionTree = tree.DecisionTreeClassifier()\n",
        "\n",
        "decisionTree.fit(hash_features, outcomes)"
      ],
      "execution_count": 11,
      "outputs": [
        {
          "output_type": "execute_result",
          "data": {
            "text/plain": [
              "DecisionTreeClassifier(class_weight=None, criterion='gini', max_depth=None,\n",
              "            max_features=None, max_leaf_nodes=None,\n",
              "            min_impurity_decrease=0.0, min_impurity_split=None,\n",
              "            min_samples_leaf=1, min_samples_split=2,\n",
              "            min_weight_fraction_leaf=0.0, presort=False, random_state=None,\n",
              "            splitter='best')"
            ]
          },
          "metadata": {
            "tags": []
          },
          "execution_count": 11
        }
      ]
    },
    {
      "cell_type": "markdown",
      "metadata": {
        "id": "K02ujnYZGNDI",
        "colab_type": "text"
      },
      "source": [
        "Now our model is trained. The advantage of something simple like a decision tree, is that it takes very little time to train. This way it is easy to experiment with. If you would take a look at deep learning or neural nets, it would take a lot longer. "
      ]
    },
    {
      "cell_type": "markdown",
      "metadata": {
        "id": "1in5VTLxGe0G",
        "colab_type": "text"
      },
      "source": [
        "What we don't know yet is how well our model is performing. For this we are using our classifier to classify the items of the validation set. This part of the data is never seen by the classifier. "
      ]
    },
    {
      "cell_type": "code",
      "metadata": {
        "id": "8Hyk0S_gGv5f",
        "colab_type": "code",
        "colab": {
          "base_uri": "https://localhost:8080/",
          "height": 323
        },
        "outputId": "4e0dd412-c3a7-4076-d922-1c8bd758b477"
      },
      "source": [
        "validation_outcomes = validation_data[\"OutcomeType\"]\n",
        "validation_features = validation_data[feature_columns].applymap(hashFunction)\n",
        "validation_prediction = decisionTree.predict(validation_features)\n",
        "\n",
        "print('Validation outcomes: \\n', validation_outcomes.head())\n",
        "print('\\nValidation features: \\n', validation_features.head())\n",
        "print('\\nValidation prediction: \\n ', validation_prediction[:5])"
      ],
      "execution_count": 12,
      "outputs": [
        {
          "output_type": "stream",
          "text": [
            "Validation outcomes: \n",
            " 8015     Alive\n",
            "9162     Alive\n",
            "20137    Alive\n",
            "24454    Alive\n",
            "21319    Alive\n",
            "Name: OutcomeType, dtype: object\n",
            "\n",
            "Validation features: \n",
            "                 AnimalType       SexuponOutcome  Neutered  Mix\n",
            "8015  -6682994201854783480 -3317441528169794401         1    1\n",
            "9162   1218296454829451512 -3317441528169794401         1    0\n",
            "20137 -6682994201854783480  4015982136323197781         1    1\n",
            "24454 -6682994201854783480 -3317441528169794401         1    1\n",
            "21319 -6682994201854783480  4015982136323197781         0    1\n",
            "\n",
            "Validation prediction: \n",
            "  ['Alive' 'Alive' 'Alive' 'Alive' 'Alive']\n"
          ],
          "name": "stdout"
        }
      ]
    },
    {
      "cell_type": "markdown",
      "metadata": {
        "id": "6zg0148CNg05",
        "colab_type": "text"
      },
      "source": [
        "We now have the predictions, but we can't see at this point how well the model is performing. For this we want to print out some metrics. sklearn has a package we can use for this."
      ]
    },
    {
      "cell_type": "code",
      "metadata": {
        "id": "IDOc5knHTkQI",
        "colab_type": "code",
        "colab": {}
      },
      "source": [
        "from sklearn import metrics"
      ],
      "execution_count": 0,
      "outputs": []
    },
    {
      "cell_type": "markdown",
      "metadata": {
        "id": "lpym1mFFUBex",
        "colab_type": "text"
      },
      "source": [
        "First we start with accuracy. This indicates the number of correct precictions over the total number of predictions. It is probably the easiest score to start with."
      ]
    },
    {
      "cell_type": "code",
      "metadata": {
        "id": "Qoul_bt4VPHB",
        "colab_type": "code",
        "outputId": "2dd138bc-9f91-48fd-81c3-cd2d1e94b6aa",
        "colab": {
          "base_uri": "https://localhost:8080/",
          "height": 34
        }
      },
      "source": [
        "print(metrics.accuracy_score(validation_outcomes, validation_prediction))"
      ],
      "execution_count": 14,
      "outputs": [
        {
          "output_type": "stream",
          "text": [
            "0.9353699085619285\n"
          ],
          "name": "stdout"
        }
      ]
    },
    {
      "cell_type": "markdown",
      "metadata": {
        "id": "BBw15zyoVdcS",
        "colab_type": "text"
      },
      "source": [
        "This is not always a good indicator. When we check the division of the outcome yypes, we notice that there are a lot more samples for the 'Alive' class. This way accuracy might not always be correct. We would have a high accuracy if we always predict the animal to stay alive. "
      ]
    },
    {
      "cell_type": "code",
      "metadata": {
        "id": "XH6DQq4xVx95",
        "colab_type": "code",
        "outputId": "d7a7b886-62bd-4db7-a3ec-d10973dbbb4c",
        "colab": {
          "base_uri": "https://localhost:8080/",
          "height": 302
        }
      },
      "source": [
        "development_data['OutcomeType'].value_counts().plot(kind='bar')"
      ],
      "execution_count": 15,
      "outputs": [
        {
          "output_type": "execute_result",
          "data": {
            "text/plain": [
              "<matplotlib.axes._subplots.AxesSubplot at 0x7f41f46910f0>"
            ]
          },
          "metadata": {
            "tags": []
          },
          "execution_count": 15
        },
        {
          "output_type": "display_data",
          "data": {
            "image/png": "[encoded data removed]",
            "text/plain": [
              "<Figure size 432x288 with 1 Axes>"
            ]
          },
          "metadata": {
            "tags": []
          }
        }
      ]
    },
    {
      "cell_type": "markdown",
      "metadata": {
        "id": "GIwqTZEta0hC",
        "colab_type": "text"
      },
      "source": [
        "Therefore for this we would use other metrics. There are a lot of metrics to choose from, but the most common are precision, recall and f1-score. From sklearn we can get all of this when printing out the classification report. "
      ]
    },
    {
      "cell_type": "code",
      "metadata": {
        "id": "jv9ftWqoTl_a",
        "colab_type": "code",
        "outputId": "271f7830-7f5c-4209-8724-811723575118",
        "colab": {
          "base_uri": "https://localhost:8080/",
          "height": 204
        }
      },
      "source": [
        "print(metrics.classification_report(validation_outcomes, validation_prediction))"
      ],
      "execution_count": 16,
      "outputs": [
        {
          "output_type": "stream",
          "text": [
            "              precision    recall  f1-score   support\n",
            "\n",
            "       Alive       0.94      1.00      0.97      4501\n",
            "        Dead       0.00      0.00      0.00       311\n",
            "\n",
            "   micro avg       0.94      0.94      0.94      4812\n",
            "   macro avg       0.47      0.50      0.48      4812\n",
            "weighted avg       0.87      0.94      0.90      4812\n",
            "\n"
          ],
          "name": "stdout"
        },
        {
          "output_type": "stream",
          "text": [
            "/usr/local/lib/python3.6/dist-packages/sklearn/metrics/classification.py:1143: UndefinedMetricWarning: Precision and F-score are ill-defined and being set to 0.0 in labels with no predicted samples.\n",
            "  'precision', 'predicted', average, warn_for)\n"
          ],
          "name": "stderr"
        }
      ]
    },
    {
      "cell_type": "markdown",
      "metadata": {
        "id": "vvbKQk58bHqm",
        "colab_type": "text"
      },
      "source": [
        "Data cleaning and working with the model was an iterative process for us. As experiment, it was nice that we had an easy model with not too much data so that it could be easily retrained. "
      ]
    },
    {
      "cell_type": "markdown",
      "metadata": {
        "id": "kHhefYT_cBIp",
        "colab_type": "text"
      },
      "source": [
        "Some experiments we did:\n",
        "\n",
        "*   using all the different outcome types (Adoption, Died, Euthanasia, Return_to_owner and Transfer)\n",
        "*  adding more features like color and breed (we spent some time cleaning this up as well)\n",
        "* Use a random forest classifier\n",
        "* played with weights for classes\n",
        "* played with max depth of the tree(s)"
      ]
    },
    {
      "cell_type": "markdown",
      "metadata": {
        "id": "4Oq5sSfhc0OS",
        "colab_type": "text"
      },
      "source": [
        "We thought the features would have some predictive value, so we added those. While doing that we noticed that the performance of our model got worse. This was not as we expected. When looking into this, we came to the conclusion that we were probable overfitting. To prevent this, we added a maximum depth for the tree(s).\n",
        "\n",
        "The weights that we gave to the classes, should help to deal with the imbalance of the classes."
      ]
    },
    {
      "cell_type": "markdown",
      "metadata": {
        "id": "J7-IflS4hBUG",
        "colab_type": "text"
      },
      "source": [
        "We noticed that recall of the category 'Dead' would be the most ideal to optimize on, since we want to make sure that of all the animals who are likely to die, we want as much as them correctly predicted. We don't care if occasionaly we predict that an animal is likely to die, when this will probably not be the case. \n",
        "The best model would be one with the highest recall and accuracy (since we don't want to predict that every animal dies). "
      ]
    },
    {
      "cell_type": "markdown",
      "metadata": {
        "id": "OBQTaMngqqvs",
        "colab_type": "text"
      },
      "source": [
        "One of our best performing models, based on accuracy and recall of the category 'Dead', was a random forest classifier with only the basic features and the binary outcome types. The weight was set 10 for 'Dead' and 1 for 'Alive' and the maximum depth of the trees was 4. We will now train this model. "
      ]
    },
    {
      "cell_type": "code",
      "metadata": {
        "id": "rE4YfBA0rB6Q",
        "colab_type": "code",
        "colab": {}
      },
      "source": [
        "from sklearn import ensemble"
      ],
      "execution_count": 0,
      "outputs": []
    },
    {
      "cell_type": "code",
      "metadata": {
        "id": "LtIWbsqorXDw",
        "colab_type": "code",
        "outputId": "b1a30efb-5fa1-4170-b2fa-382e812f7838",
        "colab": {
          "base_uri": "https://localhost:8080/",
          "height": 170
        }
      },
      "source": [
        "random_forest = ensemble.RandomForestClassifier(class_weight={'Dead': 10, 'Alive': 1},max_depth=4)\n",
        "random_forest.fit(hash_features, outcomes)\n",
        "\n"
      ],
      "execution_count": 18,
      "outputs": [
        {
          "output_type": "stream",
          "text": [
            "/usr/local/lib/python3.6/dist-packages/sklearn/ensemble/forest.py:246: FutureWarning: The default value of n_estimators will change from 10 in version 0.20 to 100 in 0.22.\n",
            "  \"10 in version 0.20 to 100 in 0.22.\", FutureWarning)\n"
          ],
          "name": "stderr"
        },
        {
          "output_type": "execute_result",
          "data": {
            "text/plain": [
              "RandomForestClassifier(bootstrap=True, class_weight={'Dead': 10, 'Alive': 1},\n",
              "            criterion='gini', max_depth=4, max_features='auto',\n",
              "            max_leaf_nodes=None, min_impurity_decrease=0.0,\n",
              "            min_impurity_split=None, min_samples_leaf=1,\n",
              "            min_samples_split=2, min_weight_fraction_leaf=0.0,\n",
              "            n_estimators=10, n_jobs=None, oob_score=False,\n",
              "            random_state=None, verbose=0, warm_start=False)"
            ]
          },
          "metadata": {
            "tags": []
          },
          "execution_count": 18
        }
      ]
    },
    {
      "cell_type": "markdown",
      "metadata": {
        "id": "dHyPHJxYruAY",
        "colab_type": "text"
      },
      "source": [
        "Now we are going to check the metrics again for the validation set."
      ]
    },
    {
      "cell_type": "code",
      "metadata": {
        "id": "hvkQfS3tr0Yp",
        "colab_type": "code",
        "colab": {
          "base_uri": "https://localhost:8080/",
          "height": 51
        },
        "outputId": "b23015a0-50f8-4cf1-fbd9-73ce6e13c7d6"
      },
      "source": [
        "validation_prediction_random_forest = random_forest.predict(validation_features)\n",
        "\n",
        "print(\"Validation prediction: \\n\", validation_prediction_random_forest[:5])"
      ],
      "execution_count": 19,
      "outputs": [
        {
          "output_type": "stream",
          "text": [
            "Validation prediction: \n",
            " ['Alive' 'Alive' 'Alive' 'Alive' 'Dead']\n"
          ],
          "name": "stdout"
        }
      ]
    },
    {
      "cell_type": "code",
      "metadata": {
        "id": "R-lGg8v0rwmK",
        "colab_type": "code",
        "outputId": "ab077147-165f-4b25-b8c5-04c6fca1f1a5",
        "colab": {
          "base_uri": "https://localhost:8080/",
          "height": 34
        }
      },
      "source": [
        "print(metrics.accuracy_score(validation_outcomes, validation_prediction_random_forest))"
      ],
      "execution_count": 20,
      "outputs": [
        {
          "output_type": "stream",
          "text": [
            "0.728595178719867\n"
          ],
          "name": "stdout"
        }
      ]
    },
    {
      "cell_type": "markdown",
      "metadata": {
        "id": "wufa6Lb8yLPo",
        "colab_type": "text"
      },
      "source": [
        "The accuracy dropped here if we compare it to our first experiment. However, now our model is able to predict 'Dead' values as well."
      ]
    },
    {
      "cell_type": "code",
      "metadata": {
        "id": "wkL5bh90yEQo",
        "colab_type": "code",
        "outputId": "f141d2d9-85f7-468b-9039-c10c7846b3bc",
        "colab": {
          "base_uri": "https://localhost:8080/",
          "height": 170
        }
      },
      "source": [
        "print(metrics.classification_report(validation_outcomes, validation_prediction_random_forest))"
      ],
      "execution_count": 21,
      "outputs": [
        {
          "output_type": "stream",
          "text": [
            "              precision    recall  f1-score   support\n",
            "\n",
            "       Alive       0.97      0.74      0.84      4501\n",
            "        Dead       0.14      0.63      0.23       311\n",
            "\n",
            "   micro avg       0.73      0.73      0.73      4812\n",
            "   macro avg       0.55      0.68      0.53      4812\n",
            "weighted avg       0.91      0.73      0.80      4812\n",
            "\n"
          ],
          "name": "stdout"
        }
      ]
    },
    {
      "cell_type": "markdown",
      "metadata": {
        "id": "S0FVzirk4opP",
        "colab_type": "text"
      },
      "source": [
        "Now would be the time to get the test set of the shelve and let our model make predictions for these. This would be the metrics that we communicate to the customer, since it is the best indication wheter a model would work in real life or not."
      ]
    },
    {
      "cell_type": "code",
      "metadata": {
        "id": "j015HNvw6Ab5",
        "colab_type": "code",
        "colab": {
          "base_uri": "https://localhost:8080/",
          "height": 323
        },
        "outputId": "a6ee16fb-33de-45b3-c60f-34043f5389f5"
      },
      "source": [
        "test_outcomes = test_data['OutcomeType']\n",
        "test_features = test_data[feature_columns].applymap(hashFunction)\n",
        "test_prediction = random_forest.predict(test_features)\n",
        "\n",
        "print('Test outcomes: \\n', test_outcomes.head())\n",
        "print('\\nTest features: \\n', test_features.head())\n",
        "print('\\nTest prediction: \\n ', test_prediction[:5])"
      ],
      "execution_count": 22,
      "outputs": [
        {
          "output_type": "stream",
          "text": [
            "Test outcomes: \n",
            " 12380    Alive\n",
            "5445     Alive\n",
            "21831    Alive\n",
            "10081    Alive\n",
            "12242    Alive\n",
            "Name: OutcomeType, dtype: object\n",
            "\n",
            "Test features: \n",
            "                 AnimalType       SexuponOutcome  Neutered  Mix\n",
            "12380  1218296454829451512  4015982136323197781         1    1\n",
            "5445   1218296454829451512  4015982136323197781         1    0\n",
            "21831  1218296454829451512 -3317441528169794401         1    1\n",
            "10081 -6682994201854783480                    0         0    1\n",
            "12242  1218296454829451512  4015982136323197781         1    1\n",
            "\n",
            "Test prediction: \n",
            "  ['Alive' 'Alive' 'Alive' 'Dead' 'Alive']\n"
          ],
          "name": "stdout"
        }
      ]
    },
    {
      "cell_type": "code",
      "metadata": {
        "id": "FwRw4K1q6YtQ",
        "colab_type": "code",
        "outputId": "2028e0b6-d0de-4896-9d39-0a2d23c2797f",
        "colab": {
          "base_uri": "https://localhost:8080/",
          "height": 34
        }
      },
      "source": [
        "print(metrics.accuracy_score(test_outcomes, test_prediction))"
      ],
      "execution_count": 23,
      "outputs": [
        {
          "output_type": "stream",
          "text": [
            "0.7246539468761691\n"
          ],
          "name": "stdout"
        }
      ]
    },
    {
      "cell_type": "code",
      "metadata": {
        "id": "2FgeEjzF6e6J",
        "colab_type": "code",
        "outputId": "5eae7db7-b3da-449e-dadd-cb1601f7f774",
        "colab": {
          "base_uri": "https://localhost:8080/",
          "height": 170
        }
      },
      "source": [
        "print(metrics.classification_report(test_outcomes, test_prediction))"
      ],
      "execution_count": 24,
      "outputs": [
        {
          "output_type": "stream",
          "text": [
            "              precision    recall  f1-score   support\n",
            "\n",
            "       Alive       0.97      0.73      0.83      2493\n",
            "        Dead       0.15      0.64      0.24       180\n",
            "\n",
            "   micro avg       0.72      0.72      0.72      2673\n",
            "   macro avg       0.56      0.69      0.54      2673\n",
            "weighted avg       0.91      0.72      0.79      2673\n",
            "\n"
          ],
          "name": "stdout"
        }
      ]
    }
  ]
}